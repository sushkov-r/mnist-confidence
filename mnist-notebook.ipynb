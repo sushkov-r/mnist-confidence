{
 "cells": [
  {
   "cell_type": "code",
   "execution_count": 1,
   "metadata": {},
   "outputs": [],
   "source": [
    "%load_ext autoreload\n",
    "%autoreload 2\n",
    "\n",
    "import mnist\n",
    "import matplotlib.pyplot as plt\n",
    "import numpy as np"
   ]
  },
  {
   "cell_type": "code",
   "execution_count": 2,
   "metadata": {},
   "outputs": [],
   "source": [
    "%matplotlib inline"
   ]
  },
  {
   "cell_type": "code",
   "execution_count": 3,
   "metadata": {},
   "outputs": [],
   "source": [
    "def print_statistics(conf_true, conf_false):\n",
    "    print(\"\\t\".join([\"\\tcorrect\", \"incorrect\"]))\n",
    "    print(\"median:\\t{:.4f}\\t{:.4f}\".format(np.median(conf_true), np.median(conf_false)))\n",
    "    print(\"mean:\\t{:.4f}\\t{:.4f}\".format(np.mean(conf_true), np.mean(conf_false)))\n",
    "    print(\"size:\\t{}\\t{}\".format(len(conf_true), len(conf_false)))"
   ]
  },
  {
   "cell_type": "markdown",
   "metadata": {},
   "source": [
    "## Notebook description"
   ]
  },
  {
   "cell_type": "markdown",
   "metadata": {},
   "source": [
    "Estimating a deep model prediction confidence is an important part of a product in which the model is deployed.\n",
    "In case of a classification task, a naive approach of using softmax of the class scores as likelihood estimation may produce over-confident models (i.e. the confidence of the prediction is disproportionally high) [1].\n",
    "In this notebook, a method for estimating prediction confidence is presented.\n",
    "The heteroscedastic aleatoric uncertainty presented in [2] (see section 2.2) is used for confidence estimation.\n",
    "There is a well written blog-post about this paper by the first author, https://alexgkendall.com/computer_vision/bayesian_deep_learning_for_safe_ai/.\n",
    "\n",
    "\n",
    "[1] On Calibration of Modern Neural Networks, Chuan Guo et al, https://arxiv.org/pdf/1706.04599.pdf\n",
    "[2] What Uncertainties Do We Need in Bayesian Deep Learning for Computer Vision?, Alex Kendall, Yarin Gal https://arxiv.org/pdf/1703.04977.pdf"
   ]
  },
  {
   "cell_type": "markdown",
   "metadata": {},
   "source": [
    "## Plain CNN without confidence prediction"
   ]
  },
  {
   "cell_type": "code",
   "execution_count": 4,
   "metadata": {},
   "outputs": [
    {
     "name": "stdout",
     "output_type": "stream",
     "text": [
      "Optimizing model...\n",
      "Epoch 1/15:\n",
      "Validation loss = 0.1837, Validation accuracy = 0.961\n",
      "Epoch 2/15:\n",
      "Validation loss = 0.1119, Validation accuracy = 0.973\n",
      "Epoch 3/15:\n",
      "Validation loss = 0.0886, Validation accuracy = 0.978\n",
      "Epoch 4/15:\n",
      "Validation loss = 0.0790, Validation accuracy = 0.979\n",
      "Epoch 5/15:\n",
      "Validation loss = 0.0680, Validation accuracy = 0.982\n",
      "Epoch 6/15:\n",
      "Validation loss = 0.0646, Validation accuracy = 0.983\n",
      "Epoch 7/15:\n",
      "Validation loss = 0.0663, Validation accuracy = 0.983\n",
      "Epoch 8/15:\n",
      "Validation loss = 0.0697, Validation accuracy = 0.983\n",
      "Epoch 9/15:\n",
      "Validation loss = 0.0674, Validation accuracy = 0.983\n",
      "Epoch 10/15:\n",
      "Validation loss = 0.0645, Validation accuracy = 0.984\n",
      "Epoch 11/15:\n",
      "Validation loss = 0.0641, Validation accuracy = 0.984\n",
      "Epoch 12/15:\n",
      "Validation loss = 0.0644, Validation accuracy = 0.985\n",
      "Epoch 13/15:\n",
      "Validation loss = 0.0669, Validation accuracy = 0.985\n",
      "Epoch 14/15:\n",
      "Validation loss = 0.0610, Validation accuracy = 0.985\n",
      "Epoch 15/15:\n",
      "Validation loss = 0.0677, Validation accuracy = 0.985\n",
      "Testing Accuracy:  0.9824219\n"
     ]
    }
   ],
   "source": [
    "model = mnist.Model(predict_confidence=False, num_epochs=15)\n",
    "model.train()\n",
    "model.test_accuracy()"
   ]
  },
  {
   "cell_type": "code",
   "execution_count": 5,
   "metadata": {},
   "outputs": [],
   "source": [
    "pred, correct, _ = model.predict_test(10000)"
   ]
  },
  {
   "cell_type": "code",
   "execution_count": 6,
   "metadata": {},
   "outputs": [],
   "source": [
    "conf_true = np.max(pred[correct], axis=1)\n",
    "conf_false = np.max(pred[~correct], axis=1)"
   ]
  },
  {
   "cell_type": "code",
   "execution_count": 7,
   "metadata": {},
   "outputs": [
    {
     "name": "stdout",
     "output_type": "stream",
     "text": [
      "\tcorrect\tincorrect\n",
      "median:\t1.0000\t0.8235\n",
      "mean:\t0.9963\t0.8065\n",
      "size:\t9855\t145\n"
     ]
    }
   ],
   "source": [
    "print_statistics(conf_true, conf_false)"
   ]
  },
  {
   "cell_type": "code",
   "execution_count": 8,
   "metadata": {},
   "outputs": [
    {
     "data": {
      "image/png": "[encoded data removed]",
      "text/plain": [
       "<Figure size 432x288 with 1 Axes>"
      ]
     },
     "metadata": {},
     "output_type": "display_data"
    }
   ],
   "source": [
    "ax = plt.hist(std_true, 20)"
   ]
  },
  {
   "cell_type": "code",
   "execution_count": 9,
   "metadata": {},
   "outputs": [
    {
     "data": {
      "image/png": "[encoded data removed]",
      "text/plain": [
       "<Figure size 432x288 with 1 Axes>"
      ]
     },
     "metadata": {},
     "output_type": "display_data"
    }
   ],
   "source": [
    "ax = plt.hist(std_false, 20)"
   ]
  },
  {
   "cell_type": "markdown",
   "metadata": {},
   "source": [
    "Figures above show that indeed, a naive method of confidence estimation is uncalibrated.\n",
    "Also, note that median for incorrect classifications is $0.8235$: half of incorrect predictions have confidence greater than $0.8235$. On the correct predictions, the confidence is clearly biased."
   ]
  },
  {
   "cell_type": "markdown",
   "metadata": {},
   "source": [
    "## CNN with confidence estimation"
   ]
  },
  {
   "cell_type": "code",
   "execution_count": 10,
   "metadata": {},
   "outputs": [
    {
     "name": "stdout",
     "output_type": "stream",
     "text": [
      "Optimizing model...\n",
      "Epoch 1/15:\n",
      "Validation loss = -0.2492, Validation accuracy = 0.965\n",
      "Epoch 2/15:\n",
      "Validation loss = -0.6072, Validation accuracy = 0.975\n",
      "Epoch 3/15:\n",
      "Validation loss = -0.6951, Validation accuracy = 0.979\n",
      "Epoch 4/15:\n",
      "Validation loss = -0.8071, Validation accuracy = 0.981\n",
      "Epoch 5/15:\n",
      "Validation loss = -0.7248, Validation accuracy = 0.975\n",
      "Epoch 6/15:\n",
      "Validation loss = -0.8500, Validation accuracy = 0.984\n",
      "Epoch 7/15:\n",
      "Validation loss = -0.8235, Validation accuracy = 0.984\n",
      "Epoch 8/15:\n",
      "Validation loss = -0.7892, Validation accuracy = 0.986\n",
      "Epoch 9/15:\n",
      "Validation loss = -0.5731, Validation accuracy = 0.977\n",
      "Epoch 10/15:\n",
      "Validation loss = -0.7946, Validation accuracy = 0.984\n",
      "Epoch 11/15:\n",
      "Validation loss = -0.5825, Validation accuracy = 0.985\n",
      "Epoch 12/15:\n",
      "Validation loss = 1.5784, Validation accuracy = 0.977\n",
      "Epoch 13/15:\n",
      "Validation loss = 0.0779, Validation accuracy = 0.987\n",
      "Epoch 14/15:\n",
      "Validation loss = 1.1225, Validation accuracy = 0.983\n",
      "Epoch 15/15:\n",
      "Validation loss = 0.2705, Validation accuracy = 0.986\n",
      "Testing Accuracy:  0.984375\n"
     ]
    }
   ],
   "source": [
    "model = mnist.Model(predict_confidence=True, num_epochs=15)\n",
    "model.train()\n",
    "model.test_accuracy()"
   ]
  },
  {
   "cell_type": "code",
   "execution_count": 11,
   "metadata": {},
   "outputs": [],
   "source": [
    "pred, correct, std_dev = model.predict_test(10000)"
   ]
  },
  {
   "cell_type": "code",
   "execution_count": 12,
   "metadata": {},
   "outputs": [],
   "source": [
    "# estimation of standard deviation\n",
    "std_true = std_dev[correct]\n",
    "std_false = std_dev[~correct]"
   ]
  },
  {
   "cell_type": "code",
   "execution_count": 13,
   "metadata": {},
   "outputs": [
    {
     "name": "stdout",
     "output_type": "stream",
     "text": [
      "\tcorrect\tincorrect\n",
      "median:\t0.0188\t0.0936\n",
      "mean:\t0.0337\t0.1100\n",
      "size:\t9857\t143\n"
     ]
    }
   ],
   "source": [
    "print_statistics(std_true, std_false)"
   ]
  },
  {
   "cell_type": "code",
   "execution_count": 14,
   "metadata": {},
   "outputs": [
    {
     "data": {
      "image/png": "[encoded data removed]",
      "text/plain": [
       "<Figure size 432x288 with 1 Axes>"
      ]
     },
     "metadata": {},
     "output_type": "display_data"
    }
   ],
   "source": [
    "ax = plt.hist(std_true, 20)"
   ]
  },
  {
   "cell_type": "code",
   "execution_count": 15,
   "metadata": {},
   "outputs": [
    {
     "data": {
      "image/png": "[encoded data removed]",
      "text/plain": [
       "<Figure size 432x288 with 1 Axes>"
      ]
     },
     "metadata": {},
     "output_type": "display_data"
    }
   ],
   "source": [
    "ax = plt.hist(std_false, 20)"
   ]
  },
  {
   "cell_type": "markdown",
   "metadata": {},
   "source": [
    "Using heteroscedastic aleatoric uncertainty for (anti)-confidence estimation produces more balanced results. The model is still highly confident for the correct samples, and the uncertainty is higher for the incorrect samples.\n",
    "\n",
    "The accuracy of the modified model does not seem to be affected by introducing uncertainty estimation."
   ]
  }
 ],
 "metadata": {
  "kernelspec": {
   "display_name": "Python 3",
   "language": "python",
   "name": "python3"
  },
  "language_info": {
   "codemirror_mode": {
    "name": "ipython",
    "version": 3
   },
   "file_extension": ".py",
   "mimetype": "text/x-python",
   "name": "python",
   "nbconvert_exporter": "python",
   "pygments_lexer": "ipython3",
   "version": "3.6.6"
  }
 },
 "nbformat": 4,
 "nbformat_minor": 2
}
